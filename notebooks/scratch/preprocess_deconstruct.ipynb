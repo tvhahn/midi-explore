{
 "cells": [
  {
   "cell_type": "markdown",
   "metadata": {},
   "source": [
    "# Deconstruct the Preprocess Step\n",
    "Yuankui Lee seems to have a good preprocessing pipeline for MIDI files, found in the [Performance RNN - PyTorch](https://github.com/djosix/Performance-RNN-PyTorch) repository.\n",
    "\n",
    "I want to understand how the preprocessing steps have been implemented before I use the code in my own experiments.\n",
    "\n",
    "From the `sequence.py` (link [here](https://github.com/djosix/Performance-RNN-PyTorch/blob/master/sequence.py)), there are a number of functions "
   ]
  },
  {
   "cell_type": "code",
   "execution_count": 7,
   "metadata": {},
   "outputs": [],
   "source": [
    "import numpy as np\n",
    "import copy\n",
    "import itertools\n",
    "from pathlib import Path\n",
    "from pretty_midi import PrettyMIDI, Note, Instrument"
   ]
  },
  {
   "cell_type": "code",
   "execution_count": 5,
   "metadata": {},
   "outputs": [],
   "source": [
    "# ==================================================================================\n",
    "# Parameters\n",
    "# ==================================================================================\n",
    "\n",
    "# NoteSeq -------------------------------------------------------------------------\n",
    "\n",
    "DEFAULT_SAVING_PROGRAM = 1\n",
    "DEFAULT_LOADING_PROGRAMS = range(128)\n",
    "DEFAULT_RESOLUTION = 220\n",
    "DEFAULT_TEMPO = 120\n",
    "DEFAULT_VELOCITY = 64\n",
    "DEFAULT_PITCH_RANGE = range(21, 109)\n",
    "DEFAULT_VELOCITY_RANGE = range(21, 109)\n",
    "DEFAULT_NORMALIZATION_BASELINE = 60  # C4\n",
    "\n",
    "# EventSeq ------------------------------------------------------------------------\n",
    "\n",
    "USE_VELOCITY = True\n",
    "BEAT_LENGTH = 60 / DEFAULT_TEMPO\n",
    "DEFAULT_TIME_SHIFT_BINS = 1.15 ** np.arange(32) / 65\n",
    "DEFAULT_VELOCITY_STEPS = 32\n",
    "DEFAULT_NOTE_LENGTH = BEAT_LENGTH * 2\n",
    "MIN_NOTE_LENGTH = BEAT_LENGTH / 2\n",
    "\n",
    "# ControlSeq ----------------------------------------------------------------------\n",
    "\n",
    "DEFAULT_WINDOW_SIZE = BEAT_LENGTH * 4\n",
    "DEFAULT_NOTE_DENSITY_BINS = np.arange(12) * 3 + 1\n"
   ]
  },
  {
   "cell_type": "code",
   "execution_count": 6,
   "metadata": {},
   "outputs": [],
   "source": [
    "class NoteSeq:\n",
    "\n",
    "    @staticmethod\n",
    "    def from_midi(midi, programs=DEFAULT_LOADING_PROGRAMS):\n",
    "        notes = itertools.chain(*[\n",
    "            inst.notes for inst in midi.instruments\n",
    "            if inst.program in programs and not inst.is_drum])\n",
    "        return NoteSeq(list(notes))\n",
    "\n",
    "    @staticmethod\n",
    "    def from_midi_file(path, *args, **kwargs):\n",
    "        midi = PrettyMIDI(path)\n",
    "        return NoteSeq.from_midi(midi, *args, **kwargs)\n",
    "\n",
    "    @staticmethod\n",
    "    def merge(*note_seqs):\n",
    "        notes = itertools.chain(*[seq.notes for seq in note_seqs])\n",
    "        return NoteSeq(list(notes))\n",
    "\n",
    "    def __init__(self, notes=[]):\n",
    "        self.notes = []\n",
    "        if notes:\n",
    "            for note in notes:\n",
    "                assert isinstance(note, Note)\n",
    "            notes = filter(lambda note: note.end >= note.start, notes)\n",
    "            self.add_notes(list(notes))\n",
    "\n",
    "    def copy(self):\n",
    "        return copy.deepcopy(self)\n",
    "\n",
    "    def to_midi(self, program=DEFAULT_SAVING_PROGRAM,\n",
    "                resolution=DEFAULT_RESOLUTION, tempo=DEFAULT_TEMPO):\n",
    "        midi = PrettyMIDI(resolution=resolution, initial_tempo=tempo)\n",
    "        inst = Instrument(program, False, 'NoteSeq')\n",
    "        inst.notes = copy.deepcopy(self.notes)\n",
    "        midi.instruments.append(inst)\n",
    "        return midi\n",
    "\n",
    "    def to_midi_file(self, path, *args, **kwargs):\n",
    "        self.to_midi(*args, **kwargs).write(path)\n",
    "\n",
    "    def add_notes(self, notes):\n",
    "        self.notes += notes\n",
    "        self.notes.sort(key=lambda note: note.start)\n",
    "\n",
    "    def adjust_pitches(self, offset):\n",
    "        for note in self.notes:\n",
    "            pitch = note.pitch + offset\n",
    "            pitch = 0 if pitch < 0 else pitch\n",
    "            pitch = 127 if pitch > 127 else pitch\n",
    "            note.pitch = pitch\n",
    "\n",
    "    def adjust_velocities(self, offset):\n",
    "        for note in self.notes:\n",
    "            velocity = note.velocity + offset\n",
    "            velocity = 0 if velocity < 0 else velocity\n",
    "            velocity = 127 if velocity > 127 else velocity\n",
    "            note.velocity = velocity\n",
    "\n",
    "    def adjust_time(self, offset):\n",
    "        for note in self.notes:\n",
    "            note.start += offset\n",
    "            note.end += offset\n",
    "\n",
    "    def trim_overlapped_notes(self, min_interval=0):\n",
    "        last_notes = {}\n",
    "        for i, note in enumerate(self.notes):\n",
    "            if note.pitch in last_notes:\n",
    "                last_note = last_notes[note.pitch]\n",
    "                if note.start - last_note.start <= min_interval:\n",
    "                    last_note.end = max(note.end, last_note.end)\n",
    "                    last_note.velocity = max(note.velocity, last_note.velocity)\n",
    "                    del self.notes[i]\n",
    "                elif note.start < last_note.end:\n",
    "                    last_note.end = note.start\n",
    "            else:\n",
    "                last_notes[note.pitch] = note"
   ]
  },
  {
   "cell_type": "code",
   "execution_count": 9,
   "metadata": {},
   "outputs": [
    {
     "name": "stdout",
     "output_type": "stream",
     "text": [
      "/home/tim/Documents/midi-explore/notebooks/scratch\n"
     ]
    }
   ],
   "source": [
    "folder_midi = Path().cwd()\n",
    "print(folder_midi)\n",
    "\n",
    "path = folder_midi / '367sonat_a1.mid'"
   ]
  },
  {
   "cell_type": "code",
   "execution_count": 12,
   "metadata": {},
   "outputs": [
    {
     "data": {
      "text/plain": [
       "<__main__.NoteSeq at 0x7f4a104fb0b8>"
      ]
     },
     "execution_count": 12,
     "metadata": {},
     "output_type": "execute_result"
    }
   ],
   "source": [
    "note_seq = NoteSeq.from_midi_file(str(path))\n",
    "note_seq.adjust_time(-note_seq.notes[0].start)"
   ]
  },
  {
   "cell_type": "code",
   "execution_count": null,
   "metadata": {},
   "outputs": [],
   "source": [
    "note_seq"
   ]
  }
 ],
 "metadata": {
  "interpreter": {
   "hash": "97ae77e65ddb5f49d7d0731ab32ab3c1d6346392615187113d823a3c9f542ac3"
  },
  "kernelspec": {
   "display_name": "Python 3.6.15 64-bit ('midi': conda)",
   "language": "python",
   "name": "python3"
  },
  "language_info": {
   "codemirror_mode": {
    "name": "ipython",
    "version": 3
   },
   "file_extension": ".py",
   "mimetype": "text/x-python",
   "name": "python",
   "nbconvert_exporter": "python",
   "pygments_lexer": "ipython3",
   "version": "3.6.15"
  },
  "orig_nbformat": 4
 },
 "nbformat": 4,
 "nbformat_minor": 2
}
