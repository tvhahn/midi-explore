{
 "cells": [
  {
   "cell_type": "code",
   "execution_count": 1,
   "metadata": {},
   "outputs": [],
   "source": [
    "import pretty_midi\n",
    "import numpy as np\n",
    "from pathlib import Path\n",
    "import matplotlib.pyplot as plt\n",
    "import librosa.display\n",
    "\n",
    "# For putting audio in the notebook\n",
    "import IPython.display"
   ]
  },
  {
   "cell_type": "code",
   "execution_count": 2,
   "metadata": {},
   "outputs": [
    {
     "name": "stdout",
     "output_type": "stream",
     "text": [
      "/home/tim/Documents/midi-explore/notebooks/scratch\n"
     ]
    }
   ],
   "source": [
    "folder_midi = Path().cwd()\n",
    "print(folder_midi)"
   ]
  },
  {
   "cell_type": "code",
   "execution_count": 3,
   "metadata": {},
   "outputs": [],
   "source": [
    "pm = pretty_midi.PrettyMIDI(str(folder_midi / '367sonat_a1.mid'))"
   ]
  },
  {
   "cell_type": "code",
   "execution_count": 4,
   "metadata": {},
   "outputs": [],
   "source": [
    "def plot_piano_roll(pm, start_pitch, end_pitch, fs=100):\n",
    "    # Use librosa's specshow function for displaying the piano roll\n",
    "    librosa.display.specshow(pm.get_piano_roll(fs)[start_pitch:end_pitch],\n",
    "                             hop_length=1, sr=fs, x_axis='time', y_axis='cqt_note',\n",
    "                             fmin=pretty_midi.note_number_to_hz(start_pitch))"
   ]
  },
  {
   "cell_type": "code",
   "execution_count": 5,
   "metadata": {},
   "outputs": [
    {
     "name": "stderr",
     "output_type": "stream",
     "text": [
      "/home/tim/miniconda3/envs/midi/lib/python3.6/site-packages/librosa/display.py:1336: UserWarning: Frequency axis exceeds Nyquist. Did you remember to set all spectrogram parameters in specshow?\n",
      "  \"Frequency axis exceeds Nyquist. \"\n"
     ]
    },
    {
     "data": {
      "image/png": "[encoded data removed]",
      "text/plain": [
       "<Figure size 864x288 with 1 Axes>"
      ]
     },
     "metadata": {
      "needs_background": "light"
     },
     "output_type": "display_data"
    }
   ],
   "source": [
    "plt.figure(figsize=(12, 4))\n",
    "plot_piano_roll(pm, 24, 84)"
   ]
  },
  {
   "cell_type": "code",
   "execution_count": 6,
   "metadata": {},
   "outputs": [
    {
     "name": "stdout",
     "output_type": "stream",
     "text": [
      "1.2083333333333333\n",
      "1160\n",
      "1.2083333333333333\n"
     ]
    }
   ],
   "source": [
    "# What's the start time of the 10th note on the 3rd instrument?\n",
    "print(pm.instruments[0].notes[10].start)\n",
    "# What's that in ticks?\n",
    "tick = pm.time_to_tick(pm.instruments[0].notes[10].start)\n",
    "print(tick)\n",
    "# Note we can also go in the opposite direction\n",
    "print(pm.tick_to_time(int(tick)))"
   ]
  },
  {
   "cell_type": "code",
   "execution_count": 7,
   "metadata": {},
   "outputs": [
    {
     "data": {
      "text/plain": [
       "Text(0, 0.5, 'Proportion')"
      ]
     },
     "execution_count": 7,
     "metadata": {},
     "output_type": "execute_result"
    },
    {
     "data": {
      "image/png": "[encoded data removed]",
      "text/plain": [
       "<Figure size 432x288 with 1 Axes>"
      ]
     },
     "metadata": {
      "needs_background": "light"
     },
     "output_type": "display_data"
    }
   ],
   "source": [
    "# Plot a pitch class distribution - sort of a proxy for key\n",
    "plt.bar(np.arange(12), pm.get_pitch_class_histogram());\n",
    "plt.xticks(np.arange(12), ['C', '', 'D', '', 'E', 'F', '', 'G', '', 'A', '', 'B'])\n",
    "plt.xlabel('Note')\n",
    "plt.ylabel('Proportion')"
   ]
  },
  {
   "cell_type": "code",
   "execution_count": 84,
   "metadata": {},
   "outputs": [
    {
     "name": "stdout",
     "output_type": "stream",
     "text": [
      "/home/tim/Documents/midi-explore/data/processed\n"
     ]
    }
   ],
   "source": [
    "import torch\n",
    "import torch.nn as nn\n",
    "import torch.nn.functional as F\n",
    "from sequence import NoteSeq, EventSeq, ControlSeq\n",
    "import utils\n",
    "import config\n",
    "import optparse\n",
    "from data import Dataset\n",
    "\n",
    "path_processed_data = Path().cwd().parent.parent / 'data' / 'processed'\n",
    "print(path_processed_data)"
   ]
  },
  {
   "cell_type": "code",
   "execution_count": 100,
   "metadata": {},
   "outputs": [
    {
     "name": "stdout",
     "output_type": "stream",
     "text": [
      "240\n",
      "24\n"
     ]
    }
   ],
   "source": [
    "batch_size = 64\n",
    "window_size = 200\n",
    "stride_size = 10\n",
    "\n",
    "event_dim = EventSeq.dim()\n",
    "print(event_dim)\n",
    "control_dim = ControlSeq.dim()\n",
    "print(control_dim)\n",
    "control_ratio = 1.0\n",
    "\n",
    "model = {\n",
    "    'init_dim': 32,\n",
    "    'event_dim': EventSeq.dim(),\n",
    "    'control_dim': ControlSeq.dim(),\n",
    "    'hidden_dim': 512,\n",
    "    'gru_layers': 3,\n",
    "    'gru_dropout': 0.3,\n",
    "}\n",
    "\n",
    "init_dim = model['init_dim']\n",
    "event_embedding = nn.Embedding(event_dim, event_dim)\n",
    "primary_event = model['event_dim'] - 1\n",
    "use_transposition = False"
   ]
  },
  {
   "cell_type": "code",
   "execution_count": 97,
   "metadata": {},
   "outputs": [
    {
     "name": "stdout",
     "output_type": "stream",
     "text": [
      "133\n"
     ]
    }
   ],
   "source": [
    "dataset = Dataset(str(path_processed_data), verbose=True)\n",
    "dataset_size = len(dataset.samples)\n",
    "print(dataset_size)\n",
    "\n",
    "def get_primary_event(batch_size):\n",
    "        return torch.LongTensor([[primary_event] * batch_size])\n",
    "\n",
    "def expand_controls(controls, steps):\n",
    "        # [1 or steps, batch_size, control_dim]\n",
    "        assert len(controls.shape) == 3\n",
    "        assert controls.shape[2] == control_dim\n",
    "        if controls.shape[0] > 1:\n",
    "                assert controls.shape[0] >= steps\n",
    "                return controls[:steps]\n",
    "        return controls.repeat(steps, 1, 1)"
   ]
  },
  {
   "cell_type": "code",
   "execution_count": 98,
   "metadata": {},
   "outputs": [
    {
     "ename": "AssertionError",
     "evalue": "",
     "output_type": "error",
     "traceback": [
      "\u001b[0;31m---------------------------------------------------------------------------\u001b[0m",
      "\u001b[0;31mAssertionError\u001b[0m                            Traceback (most recent call last)",
      "\u001b[0;32m<ipython-input-98-b2e1d7afa848>\u001b[0m in \u001b[0;36m<module>\u001b[0;34m\u001b[0m\n\u001b[1;32m     47\u001b[0m         \u001b[0;31m# simulate forward loop\u001b[0m\u001b[0;34m\u001b[0m\u001b[0;34m\u001b[0m\u001b[0;34m\u001b[0m\u001b[0m\n\u001b[1;32m     48\u001b[0m             \u001b[0;31m# output, hidden = self.forward(event, control, hidden)\u001b[0m\u001b[0;34m\u001b[0m\u001b[0;34m\u001b[0m\u001b[0;34m\u001b[0m\u001b[0m\n\u001b[0;32m---> 49\u001b[0;31m         \u001b[0;32massert\u001b[0m \u001b[0mlen\u001b[0m\u001b[0;34m(\u001b[0m\u001b[0mevent\u001b[0m\u001b[0;34m.\u001b[0m\u001b[0mshape\u001b[0m\u001b[0;34m)\u001b[0m \u001b[0;34m==\u001b[0m \u001b[0;36m2\u001b[0m\u001b[0;34m\u001b[0m\u001b[0;34m\u001b[0m\u001b[0m\n\u001b[0m\u001b[1;32m     50\u001b[0m         \u001b[0;32massert\u001b[0m \u001b[0mevent\u001b[0m\u001b[0;34m.\u001b[0m\u001b[0mshape\u001b[0m\u001b[0;34m[\u001b[0m\u001b[0;36m0\u001b[0m\u001b[0;34m]\u001b[0m \u001b[0;34m==\u001b[0m \u001b[0;36m1\u001b[0m\u001b[0;34m\u001b[0m\u001b[0;34m\u001b[0m\u001b[0m\n\u001b[1;32m     51\u001b[0m         \u001b[0mbatch_size\u001b[0m \u001b[0;34m=\u001b[0m \u001b[0mevent\u001b[0m\u001b[0;34m.\u001b[0m\u001b[0mshape\u001b[0m\u001b[0;34m[\u001b[0m\u001b[0;36m1\u001b[0m\u001b[0;34m]\u001b[0m\u001b[0;34m\u001b[0m\u001b[0;34m\u001b[0m\u001b[0m\n",
      "\u001b[0;31mAssertionError\u001b[0m: "
     ]
    }
   ],
   "source": [
    "batch_gen = dataset.batches(batch_size, window_size, stride_size)\n",
    "\n",
    "for iteration, (events, controls) in enumerate(batch_gen):\n",
    "    if use_transposition:\n",
    "        offset = np.random.choice(np.arange(-6, 6))\n",
    "        events, controls = utils.transposition(events, controls, offset)\n",
    "\n",
    "    events = torch.LongTensor(events)\n",
    "    assert events.shape[0] == window_size\n",
    "\n",
    "    if np.random.random() < control_ratio:\n",
    "        controls = torch.FloatTensor(controls)\n",
    "        assert controls.shape[0] == window_size\n",
    "    else:\n",
    "        controls = None\n",
    "\n",
    "    init = torch.randn(batch_size, init_dim)\n",
    "\n",
    "    # simulate generate\n",
    "        # init [batch_size, init_dim]\n",
    "        # events [steps, batch_size] indeces\n",
    "        # controls [1 or steps, batch_size, control_dim]\n",
    "    events=events[:-1]\n",
    "    steps = window_size\n",
    "\n",
    "    batch_size = init.shape[0]\n",
    "    assert init.shape[1] == init_dim\n",
    "    assert steps > 0\n",
    "\n",
    "    use_teacher_forcing = events is not None\n",
    "    if use_teacher_forcing:\n",
    "        assert len(events.shape) == 2\n",
    "        assert events.shape[0] >= steps - 1\n",
    "        events = events[:steps-1]\n",
    "\n",
    "    event = get_primary_event(batch_size)\n",
    "    use_control = controls is not None\n",
    "    if use_control:\n",
    "        controls = expand_controls(controls, steps)\n",
    "\n",
    "    outputs = []\n",
    "    step_iter = range(steps)\n",
    "\n",
    "    for step in step_iter:\n",
    "        control = controls[step].unsqueeze(0)\n",
    "\n",
    "        # simulate forward loop\n",
    "            # output, hidden = self.forward(event, control, hidden)\n",
    "        assert len(event.shape) == 2\n",
    "        assert event.shape[0] == 1\n",
    "        batch_size = event.shape[1]\n",
    "        event = event_embedding(event)\n",
    "\n",
    "        if control is None:\n",
    "            default = torch.ones(1, batch_size, 1)\n",
    "            control = torch.zeros(1, batch_size, control_dim)\n",
    "        else:\n",
    "            default = torch.zeros(1, batch_size, 1)\n",
    "            assert control.shape == (1, batch_size, control_dim)\n",
    "\n",
    "        concat = torch.cat([event, default, control], -1)\n",
    "\n",
    "\n",
    "    \n",
    "    break"
   ]
  },
  {
   "cell_type": "code",
   "execution_count": 93,
   "metadata": {},
   "outputs": [
    {
     "data": {
      "text/plain": [
       "torch.Size([1, 36, 24])"
      ]
     },
     "execution_count": 93,
     "metadata": {},
     "output_type": "execute_result"
    }
   ],
   "source": [
    "control.shape"
   ]
  },
  {
   "cell_type": "code",
   "execution_count": 51,
   "metadata": {},
   "outputs": [],
   "source": []
  },
  {
   "cell_type": "code",
   "execution_count": 43,
   "metadata": {},
   "outputs": [
    {
     "data": {
      "text/plain": [
       "Embedding(240, 240)"
      ]
     },
     "execution_count": 43,
     "metadata": {},
     "output_type": "execute_result"
    }
   ],
   "source": [
    "event_embedding"
   ]
  },
  {
   "cell_type": "code",
   "execution_count": 44,
   "metadata": {},
   "outputs": [],
   "source": [
    "batch_gen = dataset.batches(batch_size, window_size, stride_size)"
   ]
  },
  {
   "cell_type": "code",
   "execution_count": 45,
   "metadata": {},
   "outputs": [
    {
     "name": "stdout",
     "output_type": "stream",
     "text": [
      "0 (200, 36) (200, 36, 24)\n"
     ]
    }
   ],
   "source": [
    "for iteration, (events, controls) in enumerate(batch_gen):\n",
    "    print(iteration, events.shape, controls.shape)\n",
    "    break"
   ]
  },
  {
   "cell_type": "code",
   "execution_count": 48,
   "metadata": {},
   "outputs": [],
   "source": [
    "for step in range(window_size):\n",
    "    control = torch.tensor(controls[step]).unsqueeze(0)\n",
    "    break"
   ]
  },
  {
   "cell_type": "code",
   "execution_count": 50,
   "metadata": {},
   "outputs": [
    {
     "data": {
      "text/plain": [
       "torch.Size([1, 36, 24])"
      ]
     },
     "execution_count": 50,
     "metadata": {},
     "output_type": "execute_result"
    }
   ],
   "source": [
    "control.shape"
   ]
  },
  {
   "cell_type": "code",
   "execution_count": 36,
   "metadata": {},
   "outputs": [
    {
     "data": {
      "text/plain": [
       "(199, 36)"
      ]
     },
     "execution_count": 36,
     "metadata": {},
     "output_type": "execute_result"
    }
   ],
   "source": [
    "events[:-1].shape"
   ]
  },
  {
   "cell_type": "code",
   "execution_count": 27,
   "metadata": {},
   "outputs": [
    {
     "name": "stdout",
     "output_type": "stream",
     "text": [
      "torch.Size([1, 36, 1])\n"
     ]
    }
   ],
   "source": [
    "default = torch.zeros(1, batch_size, 1)\n",
    "print(default.shape)\n"
   ]
  },
  {
   "cell_type": "code",
   "execution_count": 29,
   "metadata": {},
   "outputs": [
    {
     "ename": "RuntimeError",
     "evalue": "Tensors must have same number of dimensions: got 2 and 3",
     "output_type": "error",
     "traceback": [
      "\u001b[0;31m---------------------------------------------------------------------------\u001b[0m",
      "\u001b[0;31mRuntimeError\u001b[0m                              Traceback (most recent call last)",
      "\u001b[0;32m<ipython-input-29-2a4d230c8f49>\u001b[0m in \u001b[0;36m<module>\u001b[0;34m\u001b[0m\n\u001b[0;32m----> 1\u001b[0;31m \u001b[0mconcat\u001b[0m \u001b[0;34m=\u001b[0m \u001b[0mtorch\u001b[0m\u001b[0;34m.\u001b[0m\u001b[0mcat\u001b[0m\u001b[0;34m(\u001b[0m\u001b[0;34m[\u001b[0m\u001b[0mtorch\u001b[0m\u001b[0;34m.\u001b[0m\u001b[0mtensor\u001b[0m\u001b[0;34m(\u001b[0m\u001b[0mevents\u001b[0m\u001b[0;34m)\u001b[0m\u001b[0;34m,\u001b[0m \u001b[0mdefault\u001b[0m\u001b[0;34m,\u001b[0m \u001b[0mtorch\u001b[0m\u001b[0;34m.\u001b[0m\u001b[0mtensor\u001b[0m\u001b[0;34m(\u001b[0m\u001b[0mcontrols\u001b[0m\u001b[0;34m)\u001b[0m\u001b[0;34m]\u001b[0m\u001b[0;34m,\u001b[0m \u001b[0;34m-\u001b[0m\u001b[0;36m1\u001b[0m\u001b[0;34m)\u001b[0m\u001b[0;34m\u001b[0m\u001b[0;34m\u001b[0m\u001b[0m\n\u001b[0m",
      "\u001b[0;31mRuntimeError\u001b[0m: Tensors must have same number of dimensions: got 2 and 3"
     ]
    }
   ],
   "source": [
    "concat = torch.cat([torch.tensor(events), default, torch.tensor(controls)], -1)"
   ]
  },
  {
   "cell_type": "code",
   "execution_count": 22,
   "metadata": {},
   "outputs": [
    {
     "name": "stdout",
     "output_type": "stream",
     "text": [
      "(200, 36)\n"
     ]
    },
    {
     "data": {
      "text/plain": [
       "array([ 57, 222, 148, 145, 203,  58, 203,  34, 188,  55, 203,  50, 227,\n",
       "       208, 146, 122, 143, 138, 203,  58, 188,  55, 203,  50, 222, 146,\n",
       "       143, 138, 203,  58, 188,  55, 203,  50, 222, 146, 143, 138, 203,\n",
       "        57, 203,  36, 188,  53, 203,  48, 227, 208, 145, 124, 141, 136,\n",
       "       203,  57, 188,  53, 203,  48, 222, 145, 141, 136, 203,  57, 188,\n",
       "        53, 203,  48, 222, 145, 141, 136, 203,  55, 203,  24, 188,  52,\n",
       "       203,  46, 227, 208, 143, 112, 140, 134, 203,  55, 188,  52, 203,\n",
       "        46, 222, 143, 140, 134, 203,  55, 188,  52, 203,  46, 222, 143,\n",
       "       140, 134, 203,  53, 203,  29, 188,  45, 222, 117, 203,  28, 222,\n",
       "       133, 116, 203,  29, 222, 117, 203,  28, 222, 116, 203,  29, 227,\n",
       "       208, 117, 227, 208, 141, 203,  65, 203,  29, 188,  57, 222, 117,\n",
       "       203,  28, 222, 116, 203,  29, 222, 117, 203,  31, 222, 119, 203,\n",
       "        33, 222, 121, 203,  31, 222, 119, 203,  33, 222, 121, 203,  34,\n",
       "       222, 145, 122, 203,  36, 188,  55, 222, 124, 203,  35, 222, 123,\n",
       "       203,  36, 222, 124, 203,  35, 222, 153, 123, 203,  64, 203,  36,\n",
       "       227, 208, 124, 222, 143], dtype=uint8)"
      ]
     },
     "execution_count": 22,
     "metadata": {},
     "output_type": "execute_result"
    }
   ],
   "source": [
    "print(events.shape)\n",
    "events[:,1]"
   ]
  },
  {
   "cell_type": "code",
   "execution_count": null,
   "metadata": {},
   "outputs": [],
   "source": [
    "default = torch.ones(1, batch_size, 1).to(device)\n",
    "control = torch.zeros(1, batch_size, self.control_dim).to(device)"
   ]
  },
  {
   "cell_type": "code",
   "execution_count": null,
   "metadata": {},
   "outputs": [],
   "source": []
  },
  {
   "cell_type": "code",
   "execution_count": null,
   "metadata": {},
   "outputs": [],
   "source": []
  },
  {
   "cell_type": "code",
   "execution_count": null,
   "metadata": {},
   "outputs": [],
   "source": []
  },
  {
   "cell_type": "code",
   "execution_count": null,
   "metadata": {},
   "outputs": [],
   "source": []
  },
  {
   "cell_type": "code",
   "execution_count": 4,
   "metadata": {},
   "outputs": [],
   "source": [
    "# load torch tensor from .data file\n",
    "tensor_data = torch.load(path_processed_data / '241Brondo.mid-f7c79e4fd5215d926a9c012053a8419a.data')"
   ]
  },
  {
   "cell_type": "code",
   "execution_count": 10,
   "metadata": {},
   "outputs": [
    {
     "data": {
      "text/plain": [
       "(10613,)"
      ]
     },
     "execution_count": 10,
     "metadata": {},
     "output_type": "execute_result"
    }
   ],
   "source": [
    "tensor_data[0].shape"
   ]
  },
  {
   "cell_type": "code",
   "execution_count": 12,
   "metadata": {},
   "outputs": [
    {
     "data": {
      "text/plain": [
       "array([[ 5, 79,  0, ..., 15,  0, 15],\n",
       "       [ 5, 79,  0, ..., 15,  0, 15],\n",
       "       [ 4, 68,  0, ..., 17,  0, 17],\n",
       "       ...,\n",
       "       [ 0, 21, 21, ..., 21, 21, 21],\n",
       "       [ 0, 21, 21, ..., 21, 21, 21],\n",
       "       [ 0, 21, 21, ..., 21, 21, 21]], dtype=uint8)"
      ]
     },
     "execution_count": 12,
     "metadata": {},
     "output_type": "execute_result"
    }
   ],
   "source": [
    "tensor_data[1]"
   ]
  },
  {
   "cell_type": "code",
   "execution_count": null,
   "metadata": {},
   "outputs": [],
   "source": []
  }
 ],
 "metadata": {
  "interpreter": {
   "hash": "97ae77e65ddb5f49d7d0731ab32ab3c1d6346392615187113d823a3c9f542ac3"
  },
  "kernelspec": {
   "display_name": "Python 3.6.15 64-bit ('midi': conda)",
   "language": "python",
   "name": "python3"
  },
  "language_info": {
   "codemirror_mode": {
    "name": "ipython",
    "version": 3
   },
   "file_extension": ".py",
   "mimetype": "text/x-python",
   "name": "python",
   "nbconvert_exporter": "python",
   "pygments_lexer": "ipython3",
   "version": "3.6.15"
  },
  "orig_nbformat": 4
 },
 "nbformat": 4,
 "nbformat_minor": 2
}
